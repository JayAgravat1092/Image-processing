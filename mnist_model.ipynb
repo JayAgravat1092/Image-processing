{
 "cells": [
  {
   "cell_type": "markdown",
   "id": "1b8d4738",
   "metadata": {},
   "source": [
    "### Import Library"
   ]
  },
  {
   "cell_type": "code",
   "execution_count": 2,
   "id": "fdc0b101",
   "metadata": {},
   "outputs": [
    {
     "name": "stdout",
     "output_type": "stream",
     "text": [
      "WARNING:tensorflow:From C:\\Users\\jayag\\anaconda3\\Lib\\site-packages\\keras\\src\\losses.py:2976: The name tf.losses.sparse_softmax_cross_entropy is deprecated. Please use tf.compat.v1.losses.sparse_softmax_cross_entropy instead.\n",
      "\n"
     ]
    }
   ],
   "source": [
    "import numpy as np\n",
    "import tensorflow as tf\n",
    "from tensorflow.keras import layers,Model\n",
    "from tensorflow.keras.datasets import mnist"
   ]
  },
  {
   "cell_type": "markdown",
   "id": "0608d188",
   "metadata": {},
   "source": [
    "### Import Dataset"
   ]
  },
  {
   "cell_type": "code",
   "execution_count": 3,
   "id": "aafc98a6",
   "metadata": {},
   "outputs": [],
   "source": [
    "(x_train,y_train),(x_test,y_test)=mnist.load_data()"
   ]
  },
  {
   "cell_type": "code",
   "execution_count": 4,
   "id": "22e3e082",
   "metadata": {},
   "outputs": [],
   "source": [
    "x_train = x_train.astype('float32')/255.0\n",
    "x_test = x_test.astype('float32')/255.0"
   ]
  },
  {
   "cell_type": "markdown",
   "id": "f2935bc5",
   "metadata": {},
   "source": [
    "### Define bounding box"
   ]
  },
  {
   "cell_type": "code",
   "execution_count": 5,
   "id": "5225de85",
   "metadata": {},
   "outputs": [],
   "source": [
    "bbox_train = np.array([[14,14,14] for _ in range(len(x_train))])\n",
    "bbox_test = np.array([[14,14,14,14] for _ in range(len(x_test))])"
   ]
  },
  {
   "cell_type": "markdown",
   "id": "65bf6de2",
   "metadata": {},
   "source": [
    "### Define custom model architechture"
   ]
  },
  {
   "cell_type": "code",
   "execution_count": 6,
   "id": "a5a725ee",
   "metadata": {},
   "outputs": [
    {
     "name": "stdout",
     "output_type": "stream",
     "text": [
      "WARNING:tensorflow:From C:\\Users\\jayag\\anaconda3\\Lib\\site-packages\\keras\\src\\backend.py:1398: The name tf.executing_eagerly_outside_functions is deprecated. Please use tf.compat.v1.executing_eagerly_outside_functions instead.\n",
      "\n",
      "WARNING:tensorflow:From C:\\Users\\jayag\\anaconda3\\Lib\\site-packages\\keras\\src\\layers\\pooling\\max_pooling2d.py:161: The name tf.nn.max_pool is deprecated. Please use tf.nn.max_pool2d instead.\n",
      "\n"
     ]
    }
   ],
   "source": [
    "def custom_model():\n",
    "    inputs = layers.Input(shape=(28,28,1))\n",
    "    x = layers.Conv2D(32,(3,3),activation='relu', padding='same')(inputs)\n",
    "    x = layers.MaxPooling2D((2,2),padding='same')(x)\n",
    "    x = layers.Conv2D(64,(3,3),activation='relu', padding='same')(x)\n",
    "    x = layers.MaxPooling2D((2,2),padding='same')(x)\n",
    "    x = layers.Flatten()(x)\n",
    "    x = layers.Dense(128, activation='relu')(x)\n",
    "    \n",
    "    # Output layers for classification and localization\n",
    "    class_output = layers.Dense(10,activation='softmax',name='class_output')(x)\n",
    "    loc_output = layers.Dense(4,name='loc_output')(x)\n",
    "    \n",
    "    model = Model(inputs=inputs,outputs=[class_output,loc_output])\n",
    "    return model\n",
    "\n",
    "model=custom_model()"
   ]
  },
  {
   "cell_type": "code",
   "execution_count": 7,
   "id": "19e09723",
   "metadata": {},
   "outputs": [],
   "source": [
    "def custom_loss(y_true, y_pred):\n",
    "    # Classification loss\n",
    "    class_loss = tf.keras.losses.sparse_categorical_crossentropy(tf.cast(tf.squeeze(y_true[0]), tf.int32), y_pred[0])\n",
    "\n",
    "    # Localization loss (MSE)\n",
    "    loc_loss = tf.keras.losses.mean_squared_error(y_true[1], y_pred[1])\n",
    "\n",
    "    # You might need to adjust the loss weights based on your problem\n",
    "    total_loss = class_loss + loc_loss\n",
    "\n",
    "    return total_loss\n"
   ]
  },
  {
   "cell_type": "markdown",
   "id": "4452f2f6",
   "metadata": {},
   "source": [
    "### Compile and Train Model"
   ]
  },
  {
   "cell_type": "code",
   "execution_count": 8,
   "id": "24a8356a",
   "metadata": {},
   "outputs": [
    {
     "name": "stdout",
     "output_type": "stream",
     "text": [
      "WARNING:tensorflow:From C:\\Users\\jayag\\anaconda3\\Lib\\site-packages\\keras\\src\\optimizers\\__init__.py:309: The name tf.train.Optimizer is deprecated. Please use tf.compat.v1.train.Optimizer instead.\n",
      "\n",
      "Epoch 1/10\n",
      "WARNING:tensorflow:From C:\\Users\\jayag\\anaconda3\\Lib\\site-packages\\keras\\src\\engine\\base_layer_utils.py:384: The name tf.executing_eagerly_outside_functions is deprecated. Please use tf.compat.v1.executing_eagerly_outside_functions instead.\n",
      "\n"
     ]
    },
    {
     "ename": "ValueError",
     "evalue": "in user code:\n\n    File \"C:\\Users\\jayag\\anaconda3\\Lib\\site-packages\\keras\\src\\engine\\training.py\", line 1401, in train_function  *\n        return step_function(self, iterator)\n    File \"C:\\Users\\jayag\\anaconda3\\Lib\\site-packages\\keras\\src\\engine\\training.py\", line 1384, in step_function  **\n        outputs = model.distribute_strategy.run(run_step, args=(data,))\n    File \"C:\\Users\\jayag\\anaconda3\\Lib\\site-packages\\keras\\src\\engine\\training.py\", line 1373, in run_step  **\n        outputs = model.train_step(data)\n    File \"C:\\Users\\jayag\\anaconda3\\Lib\\site-packages\\keras\\src\\engine\\training.py\", line 1151, in train_step\n        loss = self.compute_loss(x, y, y_pred, sample_weight)\n    File \"C:\\Users\\jayag\\anaconda3\\Lib\\site-packages\\keras\\src\\engine\\training.py\", line 1209, in compute_loss\n        return self.compiled_loss(\n    File \"C:\\Users\\jayag\\anaconda3\\Lib\\site-packages\\keras\\src\\engine\\compile_utils.py\", line 277, in __call__\n        loss_value = loss_obj(y_t, y_p, sample_weight=sw)\n    File \"C:\\Users\\jayag\\anaconda3\\Lib\\site-packages\\keras\\src\\losses.py\", line 143, in __call__\n        losses = call_fn(y_true, y_pred)\n    File \"C:\\Users\\jayag\\anaconda3\\Lib\\site-packages\\keras\\src\\losses.py\", line 270, in call  **\n        return ag_fn(y_true, y_pred, **self._fn_kwargs)\n    File \"C:\\Users\\jayag\\anaconda3\\Lib\\site-packages\\keras\\src\\losses.py\", line 2532, in binary_crossentropy\n        backend.binary_crossentropy(y_true, y_pred, from_logits=from_logits),\n    File \"C:\\Users\\jayag\\anaconda3\\Lib\\site-packages\\keras\\src\\backend.py\", line 5822, in binary_crossentropy\n        return tf.nn.sigmoid_cross_entropy_with_logits(\n\n    ValueError: `logits` and `labels` must have the same shape, received ((32, 10) vs (32, 1)).\n",
     "output_type": "error",
     "traceback": [
      "\u001b[1;31m---------------------------------------------------------------------------\u001b[0m",
      "\u001b[1;31mValueError\u001b[0m                                Traceback (most recent call last)",
      "Cell \u001b[1;32mIn[8], line 2\u001b[0m\n\u001b[0;32m      1\u001b[0m model\u001b[38;5;241m.\u001b[39mcompile(optimizer\u001b[38;5;241m=\u001b[39m\u001b[38;5;124m'\u001b[39m\u001b[38;5;124madam\u001b[39m\u001b[38;5;124m'\u001b[39m,loss\u001b[38;5;241m=\u001b[39m\u001b[38;5;124m'\u001b[39m\u001b[38;5;124mbinary_crossentropy\u001b[39m\u001b[38;5;124m'\u001b[39m,metrics\u001b[38;5;241m=\u001b[39m[\u001b[38;5;124m'\u001b[39m\u001b[38;5;124maccuracy\u001b[39m\u001b[38;5;124m'\u001b[39m])\n\u001b[1;32m----> 2\u001b[0m model\u001b[38;5;241m.\u001b[39mfit(x_train,[y_train,bbox_train],batch_size\u001b[38;5;241m=\u001b[39m\u001b[38;5;241m32\u001b[39m,epochs\u001b[38;5;241m=\u001b[39m\u001b[38;5;241m10\u001b[39m,validation_data\u001b[38;5;241m=\u001b[39m(x_test,[y_test,bbox_test]))\n",
      "File \u001b[1;32m~\\anaconda3\\Lib\\site-packages\\keras\\src\\utils\\traceback_utils.py:70\u001b[0m, in \u001b[0;36mfilter_traceback.<locals>.error_handler\u001b[1;34m(*args, **kwargs)\u001b[0m\n\u001b[0;32m     67\u001b[0m     filtered_tb \u001b[38;5;241m=\u001b[39m _process_traceback_frames(e\u001b[38;5;241m.\u001b[39m__traceback__)\n\u001b[0;32m     68\u001b[0m     \u001b[38;5;66;03m# To get the full stack trace, call:\u001b[39;00m\n\u001b[0;32m     69\u001b[0m     \u001b[38;5;66;03m# `tf.debugging.disable_traceback_filtering()`\u001b[39;00m\n\u001b[1;32m---> 70\u001b[0m     \u001b[38;5;28;01mraise\u001b[39;00m e\u001b[38;5;241m.\u001b[39mwith_traceback(filtered_tb) \u001b[38;5;28;01mfrom\u001b[39;00m \u001b[38;5;28;01mNone\u001b[39;00m\n\u001b[0;32m     71\u001b[0m \u001b[38;5;28;01mfinally\u001b[39;00m:\n\u001b[0;32m     72\u001b[0m     \u001b[38;5;28;01mdel\u001b[39;00m filtered_tb\n",
      "File \u001b[1;32m~\\AppData\\Local\\Temp\\__autograph_generated_file9m01qqmq.py:15\u001b[0m, in \u001b[0;36mouter_factory.<locals>.inner_factory.<locals>.tf__train_function\u001b[1;34m(iterator)\u001b[0m\n\u001b[0;32m     13\u001b[0m \u001b[38;5;28;01mtry\u001b[39;00m:\n\u001b[0;32m     14\u001b[0m     do_return \u001b[38;5;241m=\u001b[39m \u001b[38;5;28;01mTrue\u001b[39;00m\n\u001b[1;32m---> 15\u001b[0m     retval_ \u001b[38;5;241m=\u001b[39m ag__\u001b[38;5;241m.\u001b[39mconverted_call(ag__\u001b[38;5;241m.\u001b[39mld(step_function), (ag__\u001b[38;5;241m.\u001b[39mld(\u001b[38;5;28mself\u001b[39m), ag__\u001b[38;5;241m.\u001b[39mld(iterator)), \u001b[38;5;28;01mNone\u001b[39;00m, fscope)\n\u001b[0;32m     16\u001b[0m \u001b[38;5;28;01mexcept\u001b[39;00m:\n\u001b[0;32m     17\u001b[0m     do_return \u001b[38;5;241m=\u001b[39m \u001b[38;5;28;01mFalse\u001b[39;00m\n",
      "\u001b[1;31mValueError\u001b[0m: in user code:\n\n    File \"C:\\Users\\jayag\\anaconda3\\Lib\\site-packages\\keras\\src\\engine\\training.py\", line 1401, in train_function  *\n        return step_function(self, iterator)\n    File \"C:\\Users\\jayag\\anaconda3\\Lib\\site-packages\\keras\\src\\engine\\training.py\", line 1384, in step_function  **\n        outputs = model.distribute_strategy.run(run_step, args=(data,))\n    File \"C:\\Users\\jayag\\anaconda3\\Lib\\site-packages\\keras\\src\\engine\\training.py\", line 1373, in run_step  **\n        outputs = model.train_step(data)\n    File \"C:\\Users\\jayag\\anaconda3\\Lib\\site-packages\\keras\\src\\engine\\training.py\", line 1151, in train_step\n        loss = self.compute_loss(x, y, y_pred, sample_weight)\n    File \"C:\\Users\\jayag\\anaconda3\\Lib\\site-packages\\keras\\src\\engine\\training.py\", line 1209, in compute_loss\n        return self.compiled_loss(\n    File \"C:\\Users\\jayag\\anaconda3\\Lib\\site-packages\\keras\\src\\engine\\compile_utils.py\", line 277, in __call__\n        loss_value = loss_obj(y_t, y_p, sample_weight=sw)\n    File \"C:\\Users\\jayag\\anaconda3\\Lib\\site-packages\\keras\\src\\losses.py\", line 143, in __call__\n        losses = call_fn(y_true, y_pred)\n    File \"C:\\Users\\jayag\\anaconda3\\Lib\\site-packages\\keras\\src\\losses.py\", line 270, in call  **\n        return ag_fn(y_true, y_pred, **self._fn_kwargs)\n    File \"C:\\Users\\jayag\\anaconda3\\Lib\\site-packages\\keras\\src\\losses.py\", line 2532, in binary_crossentropy\n        backend.binary_crossentropy(y_true, y_pred, from_logits=from_logits),\n    File \"C:\\Users\\jayag\\anaconda3\\Lib\\site-packages\\keras\\src\\backend.py\", line 5822, in binary_crossentropy\n        return tf.nn.sigmoid_cross_entropy_with_logits(\n\n    ValueError: `logits` and `labels` must have the same shape, received ((32, 10) vs (32, 1)).\n"
     ]
    }
   ],
   "source": [
    "model.compile(optimizer='adam',loss='binary_crossentropy',metrics=['accuracy'])\n",
    "model.fit(x_train,[y_train,bbox_train],batch_size=32,epochs=10,validation_data=(x_test,[y_test,bbox_test]))"
   ]
  },
  {
   "cell_type": "code",
   "execution_count": 10,
   "id": "5987d200",
   "metadata": {},
   "outputs": [],
   "source": [
    "import tensorflow as tf\n",
    "import tensorflow_datasets as tfds\n",
    "import numpy as np\n",
    "import matplotlib.pyplot as plt"
   ]
  },
  {
   "cell_type": "code",
   "execution_count": 11,
   "id": "69dd1c9f",
   "metadata": {},
   "outputs": [
    {
     "name": "stdout",
     "output_type": "stream",
     "text": [
      "\u001b[1mDownloading and preparing dataset Unknown size (download: Unknown size, generated: Unknown size, total: Unknown size) to C:\\Users\\jayag\\tensorflow_datasets\\mnist\\3.0.1...\u001b[0m\n"
     ]
    },
    {
     "data": {
      "application/vnd.jupyter.widget-view+json": {
       "model_id": "981c1306d3114b39ba162cbe6cef9e5f",
       "version_major": 2,
       "version_minor": 0
      },
      "text/plain": [
       "Dl Completed...: 0 url [00:00, ? url/s]"
      ]
     },
     "metadata": {},
     "output_type": "display_data"
    },
    {
     "data": {
      "application/vnd.jupyter.widget-view+json": {
       "model_id": "416e1e27dac3414380796c98fc952da4",
       "version_major": 2,
       "version_minor": 0
      },
      "text/plain": [
       "Dl Size...: 0 MiB [00:00, ? MiB/s]"
      ]
     },
     "metadata": {},
     "output_type": "display_data"
    },
    {
     "data": {
      "application/vnd.jupyter.widget-view+json": {
       "model_id": "1a45d57763d54fcd9e413a63ad7c489c",
       "version_major": 2,
       "version_minor": 0
      },
      "text/plain": [
       "Extraction completed...: 0 file [00:00, ? file/s]"
      ]
     },
     "metadata": {},
     "output_type": "display_data"
    },
    {
     "data": {
      "application/vnd.jupyter.widget-view+json": {
       "model_id": "",
       "version_major": 2,
       "version_minor": 0
      },
      "text/plain": [
       "Generating splits...:   0%|          | 0/2 [00:00<?, ? splits/s]"
      ]
     },
     "metadata": {},
     "output_type": "display_data"
    },
    {
     "data": {
      "application/vnd.jupyter.widget-view+json": {
       "model_id": "",
       "version_major": 2,
       "version_minor": 0
      },
      "text/plain": [
       "Generating train examples...: 0 examples [00:00, ? examples/s]"
      ]
     },
     "metadata": {},
     "output_type": "display_data"
    },
    {
     "data": {
      "application/vnd.jupyter.widget-view+json": {
       "model_id": "",
       "version_major": 2,
       "version_minor": 0
      },
      "text/plain": [
       "Shuffling C:\\Users\\jayag\\tensorflow_datasets\\mnist\\3.0.1.incompleteGRN5TK\\mnist-train.tfrecord*...:   0%|     …"
      ]
     },
     "metadata": {},
     "output_type": "display_data"
    },
    {
     "data": {
      "application/vnd.jupyter.widget-view+json": {
       "model_id": "",
       "version_major": 2,
       "version_minor": 0
      },
      "text/plain": [
       "Generating test examples...: 0 examples [00:00, ? examples/s]"
      ]
     },
     "metadata": {},
     "output_type": "display_data"
    },
    {
     "data": {
      "application/vnd.jupyter.widget-view+json": {
       "model_id": "",
       "version_major": 2,
       "version_minor": 0
      },
      "text/plain": [
       "Shuffling C:\\Users\\jayag\\tensorflow_datasets\\mnist\\3.0.1.incompleteGRN5TK\\mnist-test.tfrecord*...:   0%|      …"
      ]
     },
     "metadata": {},
     "output_type": "display_data"
    },
    {
     "name": "stdout",
     "output_type": "stream",
     "text": [
      "\u001b[1mDataset mnist downloaded and prepared to C:\\Users\\jayag\\tensorflow_datasets\\mnist\\3.0.1. Subsequent calls will reuse this data.\u001b[0m\n"
     ]
    }
   ],
   "source": [
    "def load_mnist():\n",
    "    # Load dataset\n",
    "    (train_ds, test_ds), ds_info = tfds.load('mnist', split=['train', 'test'], as_supervised=True, with_info=True)\n",
    "    \n",
    "    # Function to normalize images and add bounding boxes\n",
    "    def prepare_image(image, label):\n",
    "        image = tf.cast(image, tf.float32) / 255.0  # Normalize image\n",
    "        bbox = tf.constant([0.1, 0.1, 0.9, 0.9], dtype=tf.float32)  # Dummy bbox (x_min, y_min, x_max, y_max)\n",
    "        return image, {'label': label, 'bbox': bbox}\n",
    "    \n",
    "    # Prepare data\n",
    "    train_ds = train_ds.map(prepare_image).batch(32)\n",
    "    test_ds = test_ds.map(prepare_image).batch(32)\n",
    "    \n",
    "    return train_ds, test_ds, ds_info\n",
    "\n",
    "train_ds, test_ds, ds_info = load_mnist()\n"
   ]
  },
  {
   "cell_type": "code",
   "execution_count": 12,
   "id": "9378437a",
   "metadata": {},
   "outputs": [],
   "source": [
    "def build_model(num_classes):\n",
    "    inputs = tf.keras.Input(shape=(28, 28, 1))\n",
    "    x = tf.keras.layers.Conv2D(32, (3, 3), activation='relu')(inputs)\n",
    "    x = tf.keras.layers.MaxPooling2D((2, 2))(x)\n",
    "    x = tf.keras.layers.Conv2D(64, (3, 3), activation='relu')(x)\n",
    "    x = tf.keras.layers.MaxPooling2D((2, 2))(x)\n",
    "    x = tf.keras.layers.Flatten()(x)\n",
    "    x = tf.keras.layers.Dense(128, activation='relu')(x)\n",
    "\n",
    "    # Classification head\n",
    "    classification = tf.keras.layers.Dense(num_classes, activation='softmax', name='label')(x)\n",
    "    # Bounding box regression head\n",
    "    bbox = tf.keras.layers.Dense(4, activation='sigmoid', name='bbox')(x)  # Sigmoid to output values between 0 and 1\n",
    "\n",
    "    model = tf.keras.Model(inputs=inputs, outputs=[classification, bbox])\n",
    "    return model\n",
    "\n",
    "model = build_model(10)  # 10 classes for the digits 0-9\n"
   ]
  },
  {
   "cell_type": "code",
   "execution_count": 13,
   "id": "f7f4f1f0",
   "metadata": {},
   "outputs": [
    {
     "name": "stdout",
     "output_type": "stream",
     "text": [
      "Epoch 1/10\n",
      "WARNING:tensorflow:From C:\\Users\\jayag\\anaconda3\\Lib\\site-packages\\keras\\src\\utils\\tf_utils.py:492: The name tf.ragged.RaggedTensorValue is deprecated. Please use tf.compat.v1.ragged.RaggedTensorValue instead.\n",
      "\n"
     ]
    },
    {
     "name": "stderr",
     "output_type": "stream",
     "text": [
      "WARNING:tensorflow:From C:\\Users\\jayag\\anaconda3\\Lib\\site-packages\\keras\\src\\utils\\tf_utils.py:492: The name tf.ragged.RaggedTensorValue is deprecated. Please use tf.compat.v1.ragged.RaggedTensorValue instead.\n",
      "\n"
     ]
    },
    {
     "name": "stdout",
     "output_type": "stream",
     "text": [
      "1875/1875 [==============================] - 12s 5ms/step - loss: 0.1306 - label_loss: 0.1289 - bbox_loss: 0.0017 - label_accuracy: 0.9594 - bbox_mse: 0.0017 - val_loss: 0.0518 - val_label_loss: 0.0512 - val_bbox_loss: 5.4694e-04 - val_label_accuracy: 0.9833 - val_bbox_mse: 5.4694e-04\n",
      "Epoch 2/10\n",
      "1875/1875 [==============================] - 10s 5ms/step - loss: 0.0428 - label_loss: 0.0424 - bbox_loss: 4.0284e-04 - label_accuracy: 0.9872 - bbox_mse: 4.0284e-04 - val_loss: 0.0362 - val_label_loss: 0.0359 - val_bbox_loss: 3.0767e-04 - val_label_accuracy: 0.9879 - val_bbox_mse: 3.0767e-04\n",
      "Epoch 3/10\n",
      "1875/1875 [==============================] - 10s 5ms/step - loss: 0.0284 - label_loss: 0.0281 - bbox_loss: 2.5887e-04 - label_accuracy: 0.9913 - bbox_mse: 2.5887e-04 - val_loss: 0.0382 - val_label_loss: 0.0380 - val_bbox_loss: 2.3431e-04 - val_label_accuracy: 0.9879 - val_bbox_mse: 2.3431e-04\n",
      "Epoch 4/10\n",
      "1875/1875 [==============================] - 10s 5ms/step - loss: 0.0201 - label_loss: 0.0199 - bbox_loss: 1.8434e-04 - label_accuracy: 0.9936 - bbox_mse: 1.8434e-04 - val_loss: 0.0394 - val_label_loss: 0.0392 - val_bbox_loss: 1.7888e-04 - val_label_accuracy: 0.9895 - val_bbox_mse: 1.7888e-04\n",
      "Epoch 5/10\n",
      "1875/1875 [==============================] - 10s 5ms/step - loss: 0.0137 - label_loss: 0.0136 - bbox_loss: 1.0772e-04 - label_accuracy: 0.9957 - bbox_mse: 1.0772e-04 - val_loss: 0.0392 - val_label_loss: 0.0392 - val_bbox_loss: 7.7086e-05 - val_label_accuracy: 0.9886 - val_bbox_mse: 7.7086e-05\n",
      "Epoch 6/10\n",
      "1875/1875 [==============================] - 10s 5ms/step - loss: 0.0112 - label_loss: 0.0111 - bbox_loss: 5.5735e-05 - label_accuracy: 0.9963 - bbox_mse: 5.5735e-05 - val_loss: 0.0329 - val_label_loss: 0.0328 - val_bbox_loss: 2.9591e-05 - val_label_accuracy: 0.9903 - val_bbox_mse: 2.9591e-05\n",
      "Epoch 7/10\n",
      "1875/1875 [==============================] - 10s 5ms/step - loss: 0.0099 - label_loss: 0.0099 - bbox_loss: 2.1670e-05 - label_accuracy: 0.9968 - bbox_mse: 2.1670e-05 - val_loss: 0.0397 - val_label_loss: 0.0397 - val_bbox_loss: 1.0824e-05 - val_label_accuracy: 0.9901 - val_bbox_mse: 1.0824e-05\n",
      "Epoch 8/10\n",
      "1875/1875 [==============================] - 10s 6ms/step - loss: 0.0072 - label_loss: 0.0072 - bbox_loss: 6.0163e-06 - label_accuracy: 0.9978 - bbox_mse: 6.0163e-06 - val_loss: 0.0391 - val_label_loss: 0.0391 - val_bbox_loss: 2.1926e-06 - val_label_accuracy: 0.9905 - val_bbox_mse: 2.1926e-06\n",
      "Epoch 9/10\n",
      "1875/1875 [==============================] - 10s 5ms/step - loss: 0.0072 - label_loss: 0.0072 - bbox_loss: 1.0601e-06 - label_accuracy: 0.9975 - bbox_mse: 1.0601e-06 - val_loss: 0.0415 - val_label_loss: 0.0415 - val_bbox_loss: 4.6577e-07 - val_label_accuracy: 0.9905 - val_bbox_mse: 4.6577e-07\n",
      "Epoch 10/10\n",
      "1875/1875 [==============================] - 11s 6ms/step - loss: 0.0059 - label_loss: 0.0059 - bbox_loss: 2.3727e-06 - label_accuracy: 0.9979 - bbox_mse: 2.3727e-06 - val_loss: 0.0392 - val_label_loss: 0.0392 - val_bbox_loss: 2.3990e-07 - val_label_accuracy: 0.9930 - val_bbox_mse: 2.3990e-07\n"
     ]
    }
   ],
   "source": [
    "model.compile(optimizer='adam',\n",
    "              loss={'label': 'sparse_categorical_crossentropy', 'bbox': 'mse'},\n",
    "              metrics={'label': 'accuracy', 'bbox': 'mse'})\n",
    "\n",
    "history = model.fit(train_ds, epochs=10, validation_data=test_ds)\n"
   ]
  },
  {
   "cell_type": "code",
   "execution_count": 14,
   "id": "239dcfe5",
   "metadata": {},
   "outputs": [
    {
     "name": "stdout",
     "output_type": "stream",
     "text": [
      "313/313 [==============================] - 1s 2ms/step - loss: 0.0392 - label_loss: 0.0392 - bbox_loss: 2.3990e-07 - label_accuracy: 0.9930 - bbox_mse: 2.3990e-07\n",
      "Test accuracy: 0.9929999709129333, BBox MSE: 2.398981848727999e-07\n"
     ]
    }
   ],
   "source": [
    "loss, label_loss, bbox_loss, label_accuracy, bbox_mse = model.evaluate(test_ds)\n",
    "print(f\"Test accuracy: {label_accuracy}, BBox MSE: {bbox_mse}\")"
   ]
  },
  {
   "cell_type": "code",
   "execution_count": 15,
   "id": "f038bc52",
   "metadata": {},
   "outputs": [
    {
     "name": "stdout",
     "output_type": "stream",
     "text": [
      "1/1 [==============================] - 0s 104ms/step\n"
     ]
    },
    {
     "data": {
      "image/png": "[encoded data removed]",
      "text/plain": [
       "<Figure size 1500x300 with 5 Axes>"
      ]
     },
     "metadata": {},
     "output_type": "display_data"
    }
   ],
   "source": [
    "def plot_predictions(dataset):\n",
    "    for images, targets in dataset.take(1):\n",
    "        preds = model.predict(images)\n",
    "        fig, axes = plt.subplots(1, 5, figsize=(15, 3))\n",
    "        for i, ax in enumerate(axes):\n",
    "            ax.imshow(images[i, :, :, 0], cmap='gray')\n",
    "            pred_bbox = preds[1][i] * 28  # Rescale bounding box to image size\n",
    "            rect = plt.Rectangle((pred_bbox[0], pred_bbox[1]), pred_bbox[2]-pred_bbox[0], pred_bbox[3]-pred_bbox[1], fill=False, color='red')\n",
    "            ax.add_patch(rect)\n",
    "            ax.axis('off')\n",
    "        plt.show()\n",
    "\n",
    "plot_predictions(test_ds)"
   ]
  },
  {
   "cell_type": "markdown",
   "id": "544092e2",
   "metadata": {},
   "source": [
    "### Model-2"
   ]
  },
  {
   "cell_type": "code",
   "execution_count": 23,
   "id": "cd3f9cfd",
   "metadata": {},
   "outputs": [],
   "source": [
    "import tensorflow as tf\n",
    "import tensorflow_hub as hub\n",
    "import tensorflow_datasets as tfds\n",
    "import numpy as np\n",
    "import matplotlib.pyplot as plt\n",
    "import matplotlib.patches as patches\n"
   ]
  },
  {
   "cell_type": "code",
   "execution_count": null,
   "id": "102d0a39",
   "metadata": {},
   "outputs": [],
   "source": [
    "def preprocess(data):\n",
    "    image = data['image']\n",
    "    # Normalize and resize the image\n",
    "    image = tf.image.resize(image, (300, 300))\n",
    "    image = image / 255.0\n",
    "    return image, data['objects']['bbox']\n",
    "\n",
    "# Load the dataset\n",
    "ds, ds_info = tfds.load('oxford_iiit_pet', split='test', with_info=True)\n",
    "ds = ds.map(preprocess).batch(1)\n"
   ]
  },
  {
   "cell_type": "code",
   "execution_count": null,
   "id": "eb7633bc",
   "metadata": {},
   "outputs": [],
   "source": [
    "detector = hub.load('https://tfhub.dev/tensorflow/ssd_mobilenet_v2/2')\n"
   ]
  },
  {
   "cell_type": "code",
   "execution_count": null,
   "id": "591ca11b",
   "metadata": {},
   "outputs": [],
   "source": [
    "def run_detector(detector, dataset):\n",
    "    for image, image_id, gt_boxes in dataset.take(5):  # Just take 5 examples\n",
    "        converted_img  = tf.image.convert_image_dtype(image, tf.float32)[tf.newaxis, ...]\n",
    "        result = detector(converted_img)\n",
    "        result = {key:value.numpy() for key,value in result.items()}\n",
    "        print(\"Found %d objects.\" % len(result[\"detection_scores\"]))\n",
    "        print(\"Inference time: \", result[\"inference_time\"])\n",
    "        \n",
    "        image_np = image.numpy().squeeze()\n",
    "        visualize(image_np, result['detection_boxes'], result['detection_scores'], result['detection_class_entities'])\n",
    "\n",
    "def visualize(image, boxes, scores, classes):\n",
    "    plt.figure(figsize=(10, 10))\n",
    "    plt.imshow(image.astype(np.uint8))\n",
    "    ax = plt.gca()\n",
    "\n",
    "    for box, score, cls in zip(boxes, scores, classes):\n",
    "        if score > 0.5:  # Only display detections above a certain threshold\n",
    "            y1, x1, y2, x2 = box\n",
    "            rect = patches.Rectangle((x1 * image.shape[1], y1 * image.shape[0]), (x2 - x1) * image.shape[1], (y2 - y1) * image.shape[0], linewidth=1, edgecolor='r', facecolor='none')\n",
    "            ax.add_patch(rect)\n",
    "            ax.text(x1 * image.shape[1], y1 * image.shape[0], f'{cls.decode(\"utf8\")}: {score:.2f}', bbox=dict(facecolor='yellow', alpha=0.5))\n",
    "    plt.axis('off')\n",
    "    plt.show()\n",
    "\n"
   ]
  },
  {
   "cell_type": "code",
   "execution_count": null,
   "id": "fa4517d8",
   "metadata": {},
   "outputs": [],
   "source": [
    "run_detector(detector, ds)\n"
   ]
  },
  {
   "cell_type": "code",
   "execution_count": null,
   "id": "ddb7096f",
   "metadata": {},
   "outputs": [],
   "source": []
  }
 ],
 "metadata": {
  "kernelspec": {
   "display_name": "Python 3 (ipykernel)",
   "language": "python",
   "name": "python3"
  },
  "language_info": {
   "codemirror_mode": {
    "name": "ipython",
    "version": 3
   },
   "file_extension": ".py",
   "mimetype": "text/x-python",
   "name": "python",
   "nbconvert_exporter": "python",
   "pygments_lexer": "ipython3",
   "version": "3.11.5"
  }
 },
 "nbformat": 4,
 "nbformat_minor": 5
}
